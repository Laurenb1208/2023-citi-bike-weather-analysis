{
 "cells": [
  {
   "cell_type": "markdown",
   "id": "10012bdb-f58e-4fc5-bf60-f5b5dab1508c",
   "metadata": {},
   "source": [
    "# NYC Weather Data 2023 Scrapped and Cleaning Notebook\n",
    "## Lauren Brodsky "
   ]
  },
  {
   "cell_type": "code",
   "execution_count": 7,
   "id": "f6755a46-ca86-4a92-90cc-771f9d01cf17",
   "metadata": {},
   "outputs": [],
   "source": [
    "# Packages used:\n",
    "import time\n",
    "import pandas as pd\n",
    "from selenium import webdriver\n",
    "from selenium.webdriver.common.by import By\n",
    "from selenium.webdriver.chrome.options import Options\n",
    "from selenium.webdriver.chrome.service import Service\n",
    "from webdriver_manager.chrome import ChromeDriverManager\n",
    "from calendar import monthrange "
   ]
  },
  {
   "cell_type": "markdown",
   "id": "193b75f3-f1c1-4e65-b74a-40e1028afc59",
   "metadata": {},
   "source": [
    "# Scrape data "
   ]
  },
  {
   "cell_type": "code",
   "execution_count": 10,
   "id": "6b834c88-b861-40c6-ae69-040508b5eb34",
   "metadata": {},
   "outputs": [
    {
     "name": "stdout",
     "output_type": "stream",
     "text": [
      "     Year  Month  Day Avg Temperature Precipitation(in) Wind Speed(mph)\n",
      "0    2023      1    1           51.77              0.33              18\n",
      "1    2023      1    2           52.32              0.00              10\n",
      "2    2023      1    3           49.17              0.02               9\n",
      "3    2023      1    4           53.79              0.41              14\n",
      "4    2023      1    5           45.52              0.03              13\n",
      "..    ...    ...  ...             ...               ...             ...\n",
      "360  2023     12   27            44.6              0.00              20\n",
      "361  2023     12   28           49.71              1.31              29\n",
      "362  2023     12   29            48.7              0.09              17\n",
      "363  2023     12   30            43.5              0.00              20\n",
      "364  2023     12   31           42.12              0.00              20\n",
      "\n",
      "[365 rows x 6 columns]\n"
     ]
    }
   ],
   "source": [
    "# NOTE: code takes about 25-30 minutes to run \n",
    "# ALSO NOTE: must have a very strong wifi connection for webscraping otherwise it will timeout\n",
    "\n",
    "# Set the year \n",
    "year = 2023\n",
    "\n",
    "def weather_data():\n",
    "    options = Options() # initializes browser \n",
    "    options.add_argument(\"--window-size=1920,1080\") # set window size \n",
    "    service = Service(ChromeDriverManager().install()) # this  automatically sets up the correct chromedriver \n",
    "    driver = webdriver.Chrome(service=service, options=options) # launches the chrome browser\n",
    "    driver.implicitly_wait(2) # wait for the element to load \n",
    "    \n",
    "    # create  a list to store data \n",
    "    data_list = [] \n",
    "    \n",
    "    for month in range(1, 13):  # loop through the 12 months\n",
    "        days_in_month = monthrange(year, month)[1]  # gets the number of days in the month using the package \n",
    "        \n",
    "        for day in range(1, days_in_month + 1):  # creates a loop for each day of the month aftering finding the correct number of days for that month\n",
    "            url = f\"https://www.wunderground.com/history/daily/us/ny/new-york-city/KLGA/date/{year}-{month}-{day}\" \n",
    "            driver.get(url)\n",
    "            time.sleep(2)  # waits for the page to load completely\n",
    "\n",
    "            try:\n",
    "                # gets  average temperature using the full xpath on the website\n",
    "                temp_xpath = \"/html/body/app-root/app-history/one-column-layout/wu-header/sidenav/mat-sidenav-container/mat-sidenav-content/div[2]/section/div[2]/div[1]/div[3]/div[1]/div/lib-city-history-summary/div/div[2]/table/tbody[1]/tr[3]/td[1]\"\n",
    "                temperature = driver.find_element(By.XPATH, temp_xpath).text.strip()\n",
    "\n",
    "                # gets precipitation using the xpath  \n",
    "                precip_xpath = \"/html/body/app-root/app-history/one-column-layout/wu-header/sidenav/mat-sidenav-container/mat-sidenav-content/div[2]/section/div[2]/div[1]/div[3]/div[1]/div/lib-city-history-summary/div/div[2]/table/tbody[2]/tr/td[1]\"\n",
    "                precipitation = driver.find_element(By.XPATH, precip_xpath).text.strip()\n",
    "\n",
    "                # gets wind speed using xpath \n",
    "                wind_xpath = \"/html/body/app-root/app-history/one-column-layout/wu-header/sidenav/mat-sidenav-container/mat-sidenav-content/div[2]/section/div[2]/div[1]/div[3]/div[1]/div/lib-city-history-summary/div/div[2]/table/tbody[4]/tr[1]/td[1]\"\n",
    "                wind_speed = driver.find_element(By.XPATH, wind_xpath).text.strip()\n",
    "       \n",
    "                # set an exception in case it can't find data >> (code won't use but, it's good to have just in case)\n",
    "                data_list.append((year, month, day, temperature, precipitation, wind_speed))\n",
    "            except Exception as e:\n",
    "                print(f\"Failed to find data for {year}-{month}-{day}: {e}\") # Says which date\n",
    "\n",
    "    driver.quit() # close webpage\n",
    "    return data_list\n",
    "\n",
    "collected_data = weather_data() # calls the weather function and stores the returned data\n",
    "\n",
    "# convert to df and name columns\n",
    "if collected_data:\n",
    "    df = pd.DataFrame(collected_data, columns=['Year', 'Month', 'Day', 'Avg Temperature', 'Precipitation(in)', 'Wind Speed(mph)'])\n",
    "    print(df) # print to check the data was collected correctly\n",
    "else:\n",
    "    print(\"No data collected\")"
   ]
  },
  {
   "cell_type": "code",
   "execution_count": 12,
   "id": "5d194fb6-eaa3-49f7-b272-bbd600cf69ce",
   "metadata": {},
   "outputs": [],
   "source": [
    "# convert data to csv file for cleaning\n",
    "df.to_csv('scraped_data.csv', index=False)"
   ]
  },
  {
   "cell_type": "markdown",
   "id": "ce85ec41-9935-4da5-9552-c34b983b9899",
   "metadata": {},
   "source": [
    "# Clean Data"
   ]
  },
  {
   "cell_type": "code",
   "execution_count": 15,
   "id": "a4924d29-4649-4ec5-a17e-d7a2518d72f0",
   "metadata": {},
   "outputs": [],
   "source": [
    "# combine year month and day to a string (note: I will fix data types later) \n",
    "df['Date'] = pd.to_datetime(df[['Year', 'Month', 'Day']]).dt.strftime('%-m/%-d/%y')  # format so dates looks like 1/2/23 \n",
    "\n",
    "# drop the old columns \n",
    "df.drop(['Year', 'Month', 'Day'], axis=1, inplace=True)\n",
    "\n",
    "# save the new df to a new csv file \n",
    "df.to_csv('formatted_scraped_data.csv', index=False)"
   ]
  },
  {
   "cell_type": "code",
   "execution_count": 17,
   "id": "3c979625-1df5-48e9-b686-934a075f7af9",
   "metadata": {},
   "outputs": [
    {
     "name": "stdout",
     "output_type": "stream",
     "text": [
      "Avg Temperature      float64\n",
      "Precipitation(in)    float64\n",
      "Wind Speed(mph)        int64\n",
      "Date                  object\n",
      "dtype: object\n"
     ]
    }
   ],
   "source": [
    "# Check data types \n",
    "# laod the formatted data in\n",
    "df = pd.read_csv('formatted_scraped_data.csv')\n",
    "# print the data types \n",
    "print(df.dtypes)"
   ]
  },
  {
   "cell_type": "code",
   "execution_count": 19,
   "id": "5d0409cc-d635-4c15-b783-6e55c2c2ec68",
   "metadata": {},
   "outputs": [
    {
     "name": "stdout",
     "output_type": "stream",
     "text": [
      "Avg Temperature             float64\n",
      "Precipitation(in)           float64\n",
      "Wind Speed(mph)               int64\n",
      "Date                 datetime64[ns]\n",
      "dtype: object\n"
     ]
    }
   ],
   "source": [
    "# convert date to datetime \n",
    "df['Date'] = pd.to_datetime(df['Date'], format='%m/%d/%y', errors='coerce')\n",
    "print(df.dtypes)"
   ]
  },
  {
   "cell_type": "code",
   "execution_count": 21,
   "id": "b749be69-0632-4bfe-a76c-57db7ca6c3f4",
   "metadata": {},
   "outputs": [
    {
     "data": {
      "text/plain": [
       "Avg Temperature      0\n",
       "Precipitation(in)    0\n",
       "Wind Speed(mph)      0\n",
       "Date                 0\n",
       "dtype: int64"
      ]
     },
     "execution_count": 21,
     "metadata": {},
     "output_type": "execute_result"
    }
   ],
   "source": [
    "# check for missing values  >> none after checking\n",
    "missing_data = df.isnull().sum()\n",
    "missing_data "
   ]
  },
  {
   "cell_type": "code",
   "execution_count": 23,
   "id": "178e5fe9-306c-4b1b-a5af-0dd3698a61f2",
   "metadata": {},
   "outputs": [
    {
     "data": {
      "text/plain": [
       "0"
      ]
     },
     "execution_count": 23,
     "metadata": {},
     "output_type": "execute_result"
    }
   ],
   "source": [
    "# check for duplicates  >> none after checking \n",
    "duplicates = df.duplicated()\n",
    "num_duplicates = duplicates.sum()\n",
    "num_duplicates"
   ]
  },
  {
   "cell_type": "markdown",
   "id": "4a1014a0-7402-4867-b124-db972efc744f",
   "metadata": {},
   "source": [
    "# Save the Final Scraped Data"
   ]
  },
  {
   "cell_type": "code",
   "execution_count": 26,
   "id": "3cb2a6ff-d088-4de3-9e1c-d150d58677b6",
   "metadata": {},
   "outputs": [],
   "source": [
    "df.to_csv('final_weather_data_scraped.csv', index=False)"
   ]
  }
 ],
 "metadata": {
  "kernelspec": {
   "display_name": "Python 3 (ipykernel)",
   "language": "python",
   "name": "python3"
  },
  "language_info": {
   "codemirror_mode": {
    "name": "ipython",
    "version": 3
   },
   "file_extension": ".py",
   "mimetype": "text/x-python",
   "name": "python",
   "nbconvert_exporter": "python",
   "pygments_lexer": "ipython3",
   "version": "3.12.4"
  }
 },
 "nbformat": 4,
 "nbformat_minor": 5
}
